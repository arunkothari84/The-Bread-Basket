{
 "cells": [
  {
   "cell_type": "code",
   "execution_count": 4,
   "metadata": {},
   "outputs": [],
   "source": [
    "import pandas as pd\n",
    "import numpy as np\n",
    "import matplotlib.pyplot as plt"
   ]
  },
  {
   "cell_type": "code",
   "execution_count": 5,
   "metadata": {},
   "outputs": [
    {
     "data": {
      "text/html": [
       "<div>\n",
       "<style scoped>\n",
       "    .dataframe tbody tr th:only-of-type {\n",
       "        vertical-align: middle;\n",
       "    }\n",
       "\n",
       "    .dataframe tbody tr th {\n",
       "        vertical-align: top;\n",
       "    }\n",
       "\n",
       "    .dataframe thead th {\n",
       "        text-align: right;\n",
       "    }\n",
       "</style>\n",
       "<table border=\"1\" class=\"dataframe\">\n",
       "  <thead>\n",
       "    <tr style=\"text-align: right;\">\n",
       "      <th></th>\n",
       "      <th>Transaction</th>\n",
       "      <th>Item</th>\n",
       "      <th>date_time</th>\n",
       "      <th>period_day</th>\n",
       "      <th>weekday_weekend</th>\n",
       "    </tr>\n",
       "  </thead>\n",
       "  <tbody>\n",
       "    <tr>\n",
       "      <th>0</th>\n",
       "      <td>1</td>\n",
       "      <td>Bread</td>\n",
       "      <td>30-10-2016 09:58</td>\n",
       "      <td>morning</td>\n",
       "      <td>weekend</td>\n",
       "    </tr>\n",
       "    <tr>\n",
       "      <th>1</th>\n",
       "      <td>2</td>\n",
       "      <td>Scandinavian</td>\n",
       "      <td>30-10-2016 10:05</td>\n",
       "      <td>morning</td>\n",
       "      <td>weekend</td>\n",
       "    </tr>\n",
       "    <tr>\n",
       "      <th>2</th>\n",
       "      <td>2</td>\n",
       "      <td>Scandinavian</td>\n",
       "      <td>30-10-2016 10:05</td>\n",
       "      <td>morning</td>\n",
       "      <td>weekend</td>\n",
       "    </tr>\n",
       "    <tr>\n",
       "      <th>3</th>\n",
       "      <td>3</td>\n",
       "      <td>Hot chocolate</td>\n",
       "      <td>30-10-2016 10:07</td>\n",
       "      <td>morning</td>\n",
       "      <td>weekend</td>\n",
       "    </tr>\n",
       "    <tr>\n",
       "      <th>4</th>\n",
       "      <td>3</td>\n",
       "      <td>Jam</td>\n",
       "      <td>30-10-2016 10:07</td>\n",
       "      <td>morning</td>\n",
       "      <td>weekend</td>\n",
       "    </tr>\n",
       "  </tbody>\n",
       "</table>\n",
       "</div>"
      ],
      "text/plain": [
       "   Transaction           Item         date_time period_day weekday_weekend\n",
       "0            1          Bread  30-10-2016 09:58    morning         weekend\n",
       "1            2   Scandinavian  30-10-2016 10:05    morning         weekend\n",
       "2            2   Scandinavian  30-10-2016 10:05    morning         weekend\n",
       "3            3  Hot chocolate  30-10-2016 10:07    morning         weekend\n",
       "4            3            Jam  30-10-2016 10:07    morning         weekend"
      ]
     },
     "execution_count": 5,
     "metadata": {},
     "output_type": "execute_result"
    }
   ],
   "source": [
    "df = pd.read_csv(\"bread basket.csv\")\n",
    "df.head()"
   ]
  },
  {
   "cell_type": "code",
   "execution_count": 64,
   "metadata": {},
   "outputs": [],
   "source": [
    "# https://stackoverflow.com/questions/65154530/how-to-combine-values-having-same-value-in-some-columns\n",
    "from collections import defaultdict\n",
    "refHash = defaultdict(list)\n",
    "\n",
    "for i,id in enumerate(df['Transaction'].values):\n",
    "    refHash[id] += [df.loc[i,'Item']]\n",
    "\n",
    "lst = list(refHash.values())\n"
   ]
  },
  {
   "cell_type": "code",
   "execution_count": 100,
   "metadata": {},
   "outputs": [
    {
     "data": {
      "text/plain": [
       "[RelationRecord(items=frozenset({'Coke', 'Sandwich'}), support=0.005176967776016905, ordered_statistics=[OrderedStatistic(items_base=frozenset({'Coke'}), items_add=frozenset({'Sandwich'}), confidence=0.266304347826087, lift=3.706721547314578), OrderedStatistic(items_base=frozenset({'Sandwich'}), items_add=frozenset({'Coke'}), confidence=0.07205882352941176, lift=3.7067215473145776)]),\n",
       " RelationRecord(items=frozenset({'Jam', 'Fudge'}), support=0.0025356576862123614, ordered_statistics=[OrderedStatistic(items_base=frozenset({'Fudge'}), items_add=frozenset({'Jam'}), confidence=0.16901408450704225, lift=11.265621900416583), OrderedStatistic(items_base=frozenset({'Jam'}), items_add=frozenset({'Fudge'}), confidence=0.16901408450704225, lift=11.265621900416583)]),\n",
       " RelationRecord(items=frozenset({'Juice', 'Spanish Brunch'}), support=0.002746962493396725, ordered_statistics=[OrderedStatistic(items_base=frozenset({'Juice'}), items_add=frozenset({'Spanish Brunch'}), confidence=0.07123287671232878, lift=3.919878942338325), OrderedStatistic(items_base=frozenset({'Spanish Brunch'}), items_add=frozenset({'Juice'}), confidence=0.1511627906976744, lift=3.9198789423383245)]),\n",
       " RelationRecord(items=frozenset({'Sandwich', 'Mineral water'}), support=0.0032752245113576335, ordered_statistics=[OrderedStatistic(items_base=frozenset({'Mineral water'}), items_add=frozenset({'Sandwich'}), confidence=0.23134328358208955, lift=3.2200943810359965), OrderedStatistic(items_base=frozenset({'Sandwich'}), items_add=frozenset({'Mineral water'}), confidence=0.045588235294117645, lift=3.220094381035996)]),\n",
       " RelationRecord(items=frozenset({'Coffee', 'Juice', 'Cookies'}), support=0.0036978341257263604, ordered_statistics=[OrderedStatistic(items_base=frozenset({'Cookies'}), items_add=frozenset({'Coffee', 'Juice'}), confidence=0.06796116504854369, lift=3.298730395817774), OrderedStatistic(items_base=frozenset({'Juice'}), items_add=frozenset({'Coffee', 'Cookies'}), confidence=0.09589041095890412, lift=3.399261197475758), OrderedStatistic(items_base=frozenset({'Coffee', 'Cookies'}), items_add=frozenset({'Juice'}), confidence=0.13108614232209737, lift=3.399261197475758), OrderedStatistic(items_base=frozenset({'Coffee', 'Juice'}), items_add=frozenset({'Cookies'}), confidence=0.1794871794871795, lift=3.2987303958177745)]),\n",
       " RelationRecord(items=frozenset({'Coffee', 'Sandwich', 'Soup'}), support=0.0035921817221341787, ordered_statistics=[OrderedStatistic(items_base=frozenset({'Sandwich'}), items_add=frozenset({'Coffee', 'Soup'}), confidence=0.05, lift=3.1550000000000002), OrderedStatistic(items_base=frozenset({'Coffee', 'Soup'}), items_add=frozenset({'Sandwich'}), confidence=0.22666666666666666, lift=3.155)])]"
      ]
     },
     "execution_count": 100,
     "metadata": {},
     "output_type": "execute_result"
    }
   ],
   "source": [
    "from apyori import apriori\n",
    "rules = apriori(transactions= lst, min_support = 0.0025, min_lift = 3)\n",
    "results = list(rules)\n",
    "results"
   ]
  },
  {
   "cell_type": "code",
   "execution_count": 101,
   "metadata": {},
   "outputs": [],
   "source": [
    "def inspect(results):\n",
    "    lhs         = [tuple(result[2][0][0])[0] for result in results]\n",
    "    rhs         = [tuple(result[2][0][1])[0] for result in results]\n",
    "    supports    = [result[1] for result in results]\n",
    "    confidences = [result[2][0][2] for result in results]\n",
    "    lifts       = [result[2][0][3] for result in results]\n",
    "    return list(zip(lhs, rhs, supports, confidences, lifts))\n",
    "resultsinDataFrame = pd.DataFrame(inspect(results), columns = ['Left Hand Side', 'Right Hand Side', 'Support', 'Confidence', 'Lift'])"
   ]
  },
  {
   "cell_type": "code",
   "execution_count": 103,
   "metadata": {},
   "outputs": [
    {
     "data": {
      "text/html": [
       "<div>\n",
       "<style scoped>\n",
       "    .dataframe tbody tr th:only-of-type {\n",
       "        vertical-align: middle;\n",
       "    }\n",
       "\n",
       "    .dataframe tbody tr th {\n",
       "        vertical-align: top;\n",
       "    }\n",
       "\n",
       "    .dataframe thead th {\n",
       "        text-align: right;\n",
       "    }\n",
       "</style>\n",
       "<table border=\"1\" class=\"dataframe\">\n",
       "  <thead>\n",
       "    <tr style=\"text-align: right;\">\n",
       "      <th></th>\n",
       "      <th>Left Hand Side</th>\n",
       "      <th>Right Hand Side</th>\n",
       "      <th>Support</th>\n",
       "      <th>Confidence</th>\n",
       "      <th>Lift</th>\n",
       "    </tr>\n",
       "  </thead>\n",
       "  <tbody>\n",
       "    <tr>\n",
       "      <th>0</th>\n",
       "      <td>Coke</td>\n",
       "      <td>Sandwich</td>\n",
       "      <td>0.005177</td>\n",
       "      <td>0.266304</td>\n",
       "      <td>3.706722</td>\n",
       "    </tr>\n",
       "    <tr>\n",
       "      <th>1</th>\n",
       "      <td>Fudge</td>\n",
       "      <td>Jam</td>\n",
       "      <td>0.002536</td>\n",
       "      <td>0.169014</td>\n",
       "      <td>11.265622</td>\n",
       "    </tr>\n",
       "    <tr>\n",
       "      <th>2</th>\n",
       "      <td>Juice</td>\n",
       "      <td>Spanish Brunch</td>\n",
       "      <td>0.002747</td>\n",
       "      <td>0.071233</td>\n",
       "      <td>3.919879</td>\n",
       "    </tr>\n",
       "    <tr>\n",
       "      <th>3</th>\n",
       "      <td>Mineral water</td>\n",
       "      <td>Sandwich</td>\n",
       "      <td>0.003275</td>\n",
       "      <td>0.231343</td>\n",
       "      <td>3.220094</td>\n",
       "    </tr>\n",
       "    <tr>\n",
       "      <th>4</th>\n",
       "      <td>Cookies</td>\n",
       "      <td>Coffee</td>\n",
       "      <td>0.003698</td>\n",
       "      <td>0.067961</td>\n",
       "      <td>3.298730</td>\n",
       "    </tr>\n",
       "    <tr>\n",
       "      <th>5</th>\n",
       "      <td>Sandwich</td>\n",
       "      <td>Coffee</td>\n",
       "      <td>0.003592</td>\n",
       "      <td>0.050000</td>\n",
       "      <td>3.155000</td>\n",
       "    </tr>\n",
       "  </tbody>\n",
       "</table>\n",
       "</div>"
      ],
      "text/plain": [
       "  Left Hand Side Right Hand Side   Support  Confidence       Lift\n",
       "0           Coke        Sandwich  0.005177    0.266304   3.706722\n",
       "1          Fudge             Jam  0.002536    0.169014  11.265622\n",
       "2          Juice  Spanish Brunch  0.002747    0.071233   3.919879\n",
       "3  Mineral water        Sandwich  0.003275    0.231343   3.220094\n",
       "4        Cookies          Coffee  0.003698    0.067961   3.298730\n",
       "5       Sandwich          Coffee  0.003592    0.050000   3.155000"
      ]
     },
     "execution_count": 103,
     "metadata": {},
     "output_type": "execute_result"
    }
   ],
   "source": [
    "resultsinDataFrame"
   ]
  },
  {
   "cell_type": "code",
   "execution_count": 99,
   "metadata": {},
   "outputs": [
    {
     "data": {
      "text/html": [
       "<div>\n",
       "<style scoped>\n",
       "    .dataframe tbody tr th:only-of-type {\n",
       "        vertical-align: middle;\n",
       "    }\n",
       "\n",
       "    .dataframe tbody tr th {\n",
       "        vertical-align: top;\n",
       "    }\n",
       "\n",
       "    .dataframe thead th {\n",
       "        text-align: right;\n",
       "    }\n",
       "</style>\n",
       "<table border=\"1\" class=\"dataframe\">\n",
       "  <thead>\n",
       "    <tr style=\"text-align: right;\">\n",
       "      <th></th>\n",
       "      <th>Left Hand Side</th>\n",
       "      <th>Right Hand Side</th>\n",
       "      <th>Support</th>\n",
       "      <th>Confidence</th>\n",
       "      <th>Lift</th>\n",
       "    </tr>\n",
       "  </thead>\n",
       "  <tbody>\n",
       "    <tr>\n",
       "      <th>0</th>\n",
       "      <td>Coke</td>\n",
       "      <td>Sandwich</td>\n",
       "      <td>0.005177</td>\n",
       "      <td>0.266304</td>\n",
       "      <td>3.706722</td>\n",
       "    </tr>\n",
       "    <tr>\n",
       "      <th>2</th>\n",
       "      <td>Cookies</td>\n",
       "      <td>Coffee</td>\n",
       "      <td>0.003698</td>\n",
       "      <td>0.067961</td>\n",
       "      <td>3.298730</td>\n",
       "    </tr>\n",
       "    <tr>\n",
       "      <th>1</th>\n",
       "      <td>Mineral water</td>\n",
       "      <td>Sandwich</td>\n",
       "      <td>0.003275</td>\n",
       "      <td>0.231343</td>\n",
       "      <td>3.220094</td>\n",
       "    </tr>\n",
       "    <tr>\n",
       "      <th>3</th>\n",
       "      <td>Sandwich</td>\n",
       "      <td>Coffee</td>\n",
       "      <td>0.003592</td>\n",
       "      <td>0.050000</td>\n",
       "      <td>3.155000</td>\n",
       "    </tr>\n",
       "  </tbody>\n",
       "</table>\n",
       "</div>"
      ],
      "text/plain": [
       "  Left Hand Side Right Hand Side   Support  Confidence      Lift\n",
       "0           Coke        Sandwich  0.005177    0.266304  3.706722\n",
       "2        Cookies          Coffee  0.003698    0.067961  3.298730\n",
       "1  Mineral water        Sandwich  0.003275    0.231343  3.220094\n",
       "3       Sandwich          Coffee  0.003592    0.050000  3.155000"
      ]
     },
     "execution_count": 99,
     "metadata": {},
     "output_type": "execute_result"
    }
   ],
   "source": [
    "resultsinDataFrame.nlargest(10, 'Lift')"
   ]
  }
 ],
 "metadata": {
  "kernelspec": {
   "display_name": "Python 3",
   "language": "python",
   "name": "python3"
  },
  "language_info": {
   "codemirror_mode": {
    "name": "ipython",
    "version": 3
   },
   "file_extension": ".py",
   "mimetype": "text/x-python",
   "name": "python",
   "nbconvert_exporter": "python",
   "pygments_lexer": "ipython3",
   "version": "3.8.3"
  }
 },
 "nbformat": 4,
 "nbformat_minor": 4
}
